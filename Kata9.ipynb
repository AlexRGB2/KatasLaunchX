{
 "cells": [
  {
   "cell_type": "markdown",
   "metadata": {},
   "source": [
    "# Uso de funciones en Python"
   ]
  },
  {
   "cell_type": "code",
   "execution_count": 9,
   "metadata": {},
   "outputs": [
    {
     "name": "stdout",
     "output_type": "stream",
     "text": [
      "Reporte de Gasolina:\n",
      "    Total Average: 78.0%\n",
      "    Tanque A: 88%\n",
      "    Tanque Y: 76%\n",
      "    Tanque V: 70% \n",
      "    \n"
     ]
    }
   ],
   "source": [
    "def promedio(values):\n",
    "    total = sum(values)\n",
    "    number_of_items = len(values)\n",
    "    return total / number_of_items\n",
    "promedio([80, 85, 81]) \n",
    "\n",
    "def tanques(tanqueA, tanqueY, tanqueV):\n",
    "    return f\"\"\"Reporte de Gasolina:\n",
    "    Primedio Total: {promedio([tanqueA, tanqueY, tanqueV])}%\n",
    "    Tanque A: {tanqueA}%\n",
    "    Tanque Y: {tanqueY}%\n",
    "    Tanque V: {tanqueV}% \n",
    "    \"\"\"\n",
    "print(tanques(88, 76, 70))\n",
    "\n"
   ]
  },
  {
   "cell_type": "markdown",
   "metadata": {},
   "source": [
    "# Trabajo con argumentos de palabra clave"
   ]
  },
  {
   "cell_type": "code",
   "execution_count": 15,
   "metadata": {},
   "outputs": [
    {
     "name": "stdout",
     "output_type": "stream",
     "text": [
      "\n",
      "    Mision a Luna\n",
      "    Tiempo total de vuelo: 65 minutos\n",
      "    Gasolina que queda: 500000 gallones\n",
      "    \n",
      "\n",
      "    Mision a Luna\n",
      "    Tiempo total de vuelo: 76 minutos\n",
      "    Gasolina que queda: 500000\n",
      "    \n",
      "\n",
      "    Mision a Luna\n",
      "    Tiempo total de vuelo: 74 minutes\n",
      "    Gasolina que queda: 500000\n",
      "    main tanque --> 300000 galone restantes\n",
      "external tanque --> 200000 galone restantes\n",
      "\n"
     ]
    }
   ],
   "source": [
    "def mission_report(hora_de_prelanzamiento, tiempo_de_vuelo, destino, tanque_externo, tanque_interno):\n",
    "    return f\"\"\"\n",
    "    Mision a {destino}\n",
    "    Tiempo total de vuelo: {hora_de_prelanzamiento + tiempo_de_vuelo} minutos\n",
    "    Gasolina que queda: {tanque_externo + tanque_interno} gallones\n",
    "    \"\"\"\n",
    "print(mission_report(14, 51, \"Luna\", 200000, 300000))\n",
    "\n",
    "def mission_report(destino, *minutes, **fuel_reservoirs):\n",
    "    return f\"\"\"\n",
    "    Mision a {destino}\n",
    "    Tiempo total de vuelo: {sum(minutes)} minutos\n",
    "    Gasolina que queda: {sum(fuel_reservoirs.values())}\n",
    "    \"\"\"\n",
    "print(mission_report(\"Luna\", 10, 15, 51, main=300000, external=200000))\n",
    "\n",
    "def mission_report(destino, *minutes, **fuel_reservoirs):\n",
    "    main_report = f\"\"\"\n",
    "    Mision a {destino}\n",
    "    Tiempo total de vuelo: {sum(minutes)} minutes\n",
    "    Gasolina que queda: {sum(fuel_reservoirs.values())}\n",
    "    \"\"\"\n",
    "    for tank_name, gallons in fuel_reservoirs.items():\n",
    "        main_report += f\"{tank_name} tanque --> {gallons} galone restantes\\n\"\n",
    "    return main_report\n",
    "print(mission_report(\"Luna\", 8, 11, 55, main=300000, external=200000))\n",
    "\n"
   ]
  }
 ],
 "metadata": {
  "interpreter": {
   "hash": "b89b5cfaba6639976dc87ff2fec6d58faec662063367e2c229c520fe71072417"
  },
  "kernelspec": {
   "display_name": "Python 3.10.2 64-bit",
   "language": "python",
   "name": "python3"
  },
  "language_info": {
   "codemirror_mode": {
    "name": "ipython",
    "version": 3
   },
   "file_extension": ".py",
   "mimetype": "text/x-python",
   "name": "python",
   "nbconvert_exporter": "python",
   "pygments_lexer": "ipython3",
   "version": "3.10.2"
  },
  "orig_nbformat": 4
 },
 "nbformat": 4,
 "nbformat_minor": 2
}
