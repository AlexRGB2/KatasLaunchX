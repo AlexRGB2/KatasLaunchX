{
 "cells": [
  {
   "cell_type": "markdown",
   "metadata": {},
   "source": [
    "# Asteroide se acerca a la Tierra"
   ]
  },
  {
   "cell_type": "code",
   "execution_count": 18,
   "metadata": {},
   "outputs": [
    {
     "name": "stdout",
     "output_type": "stream",
     "text": [
      "!ADVERTENCIA! UN ASTEROIDE VIENE DEMASIADO RAPIDO HACIA LA TIERRA\n"
     ]
    }
   ],
   "source": [
    "velocidad = 49\n",
    "\n",
    "if velocidad > 25:\n",
    "    print ('!ADVERTENCIA! UN ASTEROIDE VIENE DEMASIADO RAPIDO HACIA LA TIERRA')\n",
    "else:\n",
    "        print ('Ninguna amenaza por el momento')"
   ]
  },
  {
   "cell_type": "markdown",
   "metadata": {},
   "source": [
    "# Rayo de luz"
   ]
  },
  {
   "cell_type": "code",
   "execution_count": 19,
   "metadata": {},
   "outputs": [
    {
     "name": "stdout",
     "output_type": "stream",
     "text": [
      "Se puede ver un meteorito en el cielo\n"
     ]
    }
   ],
   "source": [
    "asteroide = 19\n",
    "\n",
    "if asteroide >= 20:\n",
    "    print('Se puede ver un rayo de luz en el cielo')\n",
    "elif asteroide >= 1:\n",
    "    print('Se puede ver un meteorito en el cielo')\n",
    "else:\n",
    "    print('Todo tranquilo por ahora')\n",
    " "
   ]
  },
  {
   "cell_type": "markdown",
   "metadata": {},
   "source": [
    "## Operadores And y Or"
   ]
  },
  {
   "cell_type": "code",
   "execution_count": 20,
   "metadata": {},
   "outputs": [
    {
     "name": "stdout",
     "output_type": "stream",
     "text": [
      "No hay ningun peligro por ahora\n"
     ]
    }
   ],
   "source": [
    "velocidad = 19\n",
    "tamaño = 24\n",
    "\n",
    "if velocidad > 25 and tamaño > 25:\n",
    "    print('!ADVERTENCIA! UN ASTEROIDE VIENE DEMASIADO RAPIDO HACIA LA TIERRA')\n",
    "elif velocidad >= 20:\n",
    "    print('Se puede ver un rayo de luz en el cielo')\n",
    "elif tamaño < 25:\n",
    "    print('No hay ningun peligro por ahora')\n",
    "else:\n",
    "    print('No hay ninguna amenaza por ahora')"
   ]
  }
 ],
 "metadata": {
  "interpreter": {
   "hash": "b89b5cfaba6639976dc87ff2fec6d58faec662063367e2c229c520fe71072417"
  },
  "kernelspec": {
   "display_name": "Python 3.10.2 64-bit",
   "language": "python",
   "name": "python3"
  },
  "language_info": {
   "codemirror_mode": {
    "name": "ipython",
    "version": 3
   },
   "file_extension": ".py",
   "mimetype": "text/x-python",
   "name": "python",
   "nbconvert_exporter": "python",
   "pygments_lexer": "ipython3",
   "version": "3.10.2"
  },
  "orig_nbformat": 4
 },
 "nbformat": 4,
 "nbformat_minor": 2
}
